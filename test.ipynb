{
 "cells": [
  {
   "cell_type": "code",
   "execution_count": 9,
   "metadata": {},
   "outputs": [],
   "source": [
    "import numpy as np\n",
    "import skfuzzy as fuzz\n",
    "import streamlit as st\n",
    "import pandas as pd\n",
    "import matplotlib.pyplot as plt\n",
    "\n",
    "from sklearn.preprocessing import StandardScaler, OneHotEncoder\n",
    "from sklearn.impute import SimpleImputer\n",
    "from sklearn.model_selection import train_test_split, GridSearchCV\n",
    "from sklearn.preprocessing import StandardScaler\n",
    "from sklearn.neighbors import KNeighborsClassifier\n",
    "from sklearn.metrics import accuracy_score\n",
    "from sklearn.preprocessing import LabelEncoder\n"
   ]
  },
  {
   "cell_type": "markdown",
   "metadata": {},
   "source": [
    "KNN Test Error"
   ]
  },
  {
   "cell_type": "code",
   "execution_count": 10,
   "metadata": {},
   "outputs": [
    {
     "name": "stderr",
     "output_type": "stream",
     "text": [
      "c:\\Users\\Marvel Wilbert O\\AppData\\Local\\Programs\\Python\\Python310\\lib\\site-packages\\sklearn\\model_selection\\_split.py:776: UserWarning: The least populated class in y has only 2 members, which is less than n_splits=5.\n",
      "  warnings.warn(\n"
     ]
    },
    {
     "name": "stdout",
     "output_type": "stream",
     "text": [
      "Best k: 1\n",
      "Accuracy: 0.7875\n",
      "['ckd' 'ckd' 'ckd' 'ckd' 'ckd' 'ckd' 'notckd' 'ckd' 'notckd' 'ckd' 'ckd'\n",
      " 'ckd' 'notckd' 'ckd' 'ckd' 'notckd' 'notckd' 'ckd' 'notckd' 'ckd' 'ckd'\n",
      " 'ckd' 'notckd' 'ckd' 'notckd' 'notckd' 'notckd' 'ckd' 'notckd' 'ckd'\n",
      " 'notckd' 'ckd' 'ckd' 'notckd' 'notckd' 'ckd' 'notckd' 'notckd' 'notckd'\n",
      " 'ckd' 'notckd' 'notckd' 'notckd' 'notckd' 'notckd' 'notckd' 'ckd'\n",
      " 'notckd' 'notckd' 'ckd' 'ckd' 'notckd' 'notckd' 'notckd' 'ckd' 'notckd'\n",
      " 'ckd' 'notckd' 'ckd' 'ckd' 'notckd' 'notckd' 'notckd' 'ckd' 'notckd'\n",
      " 'notckd' 'notckd' 'ckd' 'ckd' 'ckd' 'ckd' 'ckd' 'ckd' 'notckd' 'notckd'\n",
      " 'ckd' 'ckd' 'notckd' 'notckd' 'notckd']\n"
     ]
    }
   ],
   "source": [
    "\n",
    "# Load dataset\n",
    "data = pd.read_csv('dataset/kidney_disease.csv')\n",
    "\n",
    "\n",
    "# Identify categorical columns (based on the description and data inspection)\n",
    "categorical_cols = [\"rbc\", \"pc\", \"pcc\",\t\"ba\", \"htn\", \"dm\", \"cad\", \"appet\", \"pe\", \"ane\"]\n",
    "numerical_cols = [\"age\", \"bp\", \"sg\", \"al\", \"su\", \"bgr\", \"bu\", \"sc\", \"sod\", \"pot\", \"hemo\", \"pcv\", \"wc\",\"rc\"]\n",
    "\n",
    "#select features\n",
    "#select all column except classification and id\n",
    "features = data.drop(columns = ['id', 'classification']) #x\n",
    "target = data['classification'] #y\n",
    "\n",
    "# Convert non-numeric placeholders to NaN\n",
    "features.replace({'\\t?': np.nan, '?': np.nan}, inplace=True)\n",
    "\n",
    "# Handling missing values for numerical columns\n",
    "# Convert features back to DataFrame after imputation to retain column names\n",
    "int_imputer = SimpleImputer(strategy='mean')# You can choose 'median', 'most_frequent', etc.\n",
    "for col in numerical_cols:\n",
    "    features[[col]] = int_imputer.fit_transform(features[[col]])\n",
    "\n",
    "\n",
    "# Initialize label encoder\n",
    "le = LabelEncoder()\n",
    "str_imputer = SimpleImputer(strategy=\"most_frequent\")\n",
    "\n",
    "# Apply LabelEncoder to each categorical column\n",
    "for col in categorical_cols:\n",
    "    # Replace NaN with a placeholder string, as LabelEncoder does not handle NaN\n",
    "    features[[col]] = str_imputer.fit_transform(features[[col]])\n",
    "    features[col] = le.fit_transform(features[col])\n",
    "\n",
    "\n",
    "# Split the data\n",
    "x_train, x_test, y_train, y_test = train_test_split(features, target, test_size=0.2, stratify=target)\n",
    "\n",
    "\n",
    "# Evaluate the model\n",
    "# Hyperparameter tuning using GridSearchCV\n",
    "param_grid = {'n_neighbors': range(1, 31)}\n",
    "grid_search = GridSearchCV(KNeighborsClassifier(), param_grid, cv=5, scoring='accuracy')\n",
    "grid_search.fit(x_train, y_train)\n",
    "\n",
    "# Best parameters and model\n",
    "best_k = grid_search.best_params_['n_neighbors']\n",
    "knn = grid_search.best_estimator_\n",
    "\n",
    "# Train and evaluate the model\n",
    "knn.fit(x_train, y_train)\n",
    "y_pred = knn.predict(x_test)\n",
    "accuracy = accuracy_score(y_test, y_pred)\n",
    "\n",
    "print(f'Best k: {best_k}')\n",
    "print(f'Accuracy: {accuracy}')\n",
    "print(y_pred)"
   ]
  }
 ],
 "metadata": {
  "kernelspec": {
   "display_name": "Python 3",
   "language": "python",
   "name": "python3"
  },
  "language_info": {
   "codemirror_mode": {
    "name": "ipython",
    "version": 3
   },
   "file_extension": ".py",
   "mimetype": "text/x-python",
   "name": "python",
   "nbconvert_exporter": "python",
   "pygments_lexer": "ipython3",
   "version": "3.10.2"
  }
 },
 "nbformat": 4,
 "nbformat_minor": 2
}
